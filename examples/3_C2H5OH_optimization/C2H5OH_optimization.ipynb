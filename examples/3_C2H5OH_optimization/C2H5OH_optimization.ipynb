{
 "cells": [
  {
   "cell_type": "code",
   "execution_count": null,
   "id": "39766057",
   "metadata": {
    "ExecuteTime": {
     "end_time": "2024-04-25T07:22:20.089228Z",
     "start_time": "2024-04-25T07:22:19.829622Z"
    },
    "scrolled": false
   },
   "outputs": [],
   "source": [
    "# clean last run result\n",
    "\n",
    "!('./clean.sh')"
   ]
  },
  {
   "cell_type": "code",
   "execution_count": null,
   "id": "e4616300",
   "metadata": {
    "ExecuteTime": {
     "end_time": "2024-04-25T07:22:21.069050Z",
     "start_time": "2024-04-25T07:22:20.093823Z"
    }
   },
   "outputs": [],
   "source": [
    "from thunder_ase.fireball import Fireball\n",
    "import numpy as np\n",
    "import ase\n",
    "from ase.build import molecule\n",
    "import timeit"
   ]
  },
  {
   "cell_type": "code",
   "execution_count": null,
   "id": "74bfab85",
   "metadata": {
    "ExecuteTime": {
     "end_time": "2024-04-25T07:22:21.093602Z",
     "start_time": "2024-04-25T07:22:21.072090Z"
    }
   },
   "outputs": [],
   "source": [
    "import sys\n",
    "from ase import units\n",
    "#from thunder_ase.optimize import LBFGS, BFGS, MDMin, FIRE"
   ]
  },
  {
   "cell_type": "code",
   "execution_count": null,
   "id": "c8693b92",
   "metadata": {
    "ExecuteTime": {
     "end_time": "2024-04-25T07:22:21.128513Z",
     "start_time": "2024-04-25T07:22:21.096282Z"
    }
   },
   "outputs": [],
   "source": [
    "# Construct Structure\n",
    "atoms = molecule('CH3CH2OH')  "
   ]
  },
  {
   "cell_type": "markdown",
   "id": "9433318e",
   "metadata": {},
   "source": [
    "**Note**: For small molecules, FIREBALL may have larger numeric error. Because it uses Harris theorem instead of Khon-Sham."
   ]
  },
  {
   "cell_type": "code",
   "execution_count": null,
   "id": "f1904549",
   "metadata": {
    "ExecuteTime": {
     "end_time": "2024-04-25T07:22:21.138333Z",
     "start_time": "2024-04-25T07:22:21.133208Z"
    }
   },
   "outputs": [],
   "source": [
    "# change the path to your Fdata path\n",
    "\n",
    "Fdata_path = '/home/ren/Fdata/Fdata-Horsfield-0.10-9SN.Hs4.10-9DN.Cs4.35p4.80.Ns3.95p4.40.Os3.35p3.80'"
   ]
  },
  {
   "cell_type": "code",
   "execution_count": null,
   "id": "cd897a40",
   "metadata": {
    "ExecuteTime": {
     "end_time": "2024-04-25T07:22:21.150108Z",
     "start_time": "2024-04-25T07:22:21.142907Z"
    }
   },
   "outputs": [],
   "source": [
    "kwargs = {\n",
    "    #'ipi': 1,  # use i-pi socket to save reading Fdata time\n",
    "}"
   ]
  },
  {
   "cell_type": "code",
   "execution_count": null,
   "id": "9cebe2ac",
   "metadata": {
    "ExecuteTime": {
     "end_time": "2024-04-25T07:22:21.160796Z",
     "start_time": "2024-04-25T07:22:21.154954Z"
    }
   },
   "outputs": [],
   "source": [
    "fireball = Fireball(command='fireball-ase.9.x', Fdata_path=Fdata_path, **kwargs)"
   ]
  },
  {
   "cell_type": "code",
   "execution_count": null,
   "id": "e64d8d82",
   "metadata": {
    "ExecuteTime": {
     "end_time": "2024-04-25T13:40:30.674120Z",
     "start_time": "2024-04-25T07:22:23.303760Z"
    }
   },
   "outputs": [],
   "source": [
    "fireball.minimize(atoms, method='MDMin', fmax=0.1, trajectory= 'opt-CO_config_77.traj', logfile='CO_config_77.log')"
   ]
  },
  {
   "cell_type": "code",
   "execution_count": null,
   "id": "78152556",
   "metadata": {
    "ExecuteTime": {
     "end_time": "2024-04-24T14:10:18.430937Z",
     "start_time": "2024-04-24T14:10:08.311747Z"
    }
   },
   "outputs": [],
   "source": [
    "print(\"The energy for optimized structure is {:.3f} eV.\".format(atoms.get_potential_energy()))"
   ]
  },
  {
   "cell_type": "markdown",
   "id": "204e66b8",
   "metadata": {},
   "source": [
    "Now, you can use ase.visualize.view or run `ase gui minimize.traj` in terminal to see the optimization process."
   ]
  },
  {
   "cell_type": "code",
   "execution_count": null,
   "id": "6f43b7ef",
   "metadata": {
    "ExecuteTime": {
     "end_time": "2024-04-21T03:47:16.354408Z",
     "start_time": "2024-04-21T03:47:16.348786Z"
    }
   },
   "outputs": [],
   "source": [
    "from ase.visualize import view\n",
    "import ase.io"
   ]
  },
  {
   "cell_type": "code",
   "execution_count": null,
   "id": "89a2db9a",
   "metadata": {},
   "outputs": [],
   "source": [
    "view(ase.io.read('minimize.traj', ':'))"
   ]
  }
 ],
 "metadata": {
  "kernelspec": {
   "display_name": "Python [conda env:fireball_calculator]",
   "language": "python",
   "name": "conda-env-fireball_calculator-py"
  },
  "language_info": {
   "codemirror_mode": {
    "name": "ipython",
    "version": 3
   },
   "file_extension": ".py",
   "mimetype": "text/x-python",
   "name": "python",
   "nbconvert_exporter": "python",
   "pygments_lexer": "ipython3",
   "version": "3.9.15"
  }
 },
 "nbformat": 4,
 "nbformat_minor": 5
}
