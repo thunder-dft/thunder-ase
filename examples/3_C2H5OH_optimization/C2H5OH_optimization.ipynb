{
 "cells": [
  {
   "cell_type": "code",
   "execution_count": null,
   "id": "39766057",
   "metadata": {
    "scrolled": true
   },
   "outputs": [],
   "source": [
    "# clean last run result\n",
    "\n",
    "!('./clean.sh')"
   ]
  },
  {
   "cell_type": "code",
   "execution_count": null,
   "id": "e4616300",
   "metadata": {},
   "outputs": [],
   "source": [
    "from thunder_ase.fireball import Fireball\n",
    "import numpy as np\n",
    "import ase\n",
    "from ase.build import molecule\n",
    "import timeit"
   ]
  },
  {
   "cell_type": "code",
   "execution_count": null,
   "id": "74bfab85",
   "metadata": {},
   "outputs": [],
   "source": [
    "import sys\n",
    "from ase import units\n",
    "from thunder_ase.optimize import LBFGS, BFGS, MDMin, FIRE"
   ]
  },
  {
   "cell_type": "code",
   "execution_count": null,
   "id": "c8693b92",
   "metadata": {},
   "outputs": [],
   "source": [
    "# Construct Structure\n",
    "atoms = molecule('CH3CH2OH')  \n",
    "\n",
    "# Note: For FIREBALL, small molecule may have larger numeric error."
   ]
  },
  {
   "cell_type": "code",
   "execution_count": null,
   "id": "f1904549",
   "metadata": {},
   "outputs": [],
   "source": [
    "Fdata_path = '/home/ren/Fdata/Fdata-Horsfield-0.10-9SN.Hs4.10-9DN.Cs4.35p4.80.Ns3.95p4.40.Os3.35p3.80'"
   ]
  },
  {
   "cell_type": "code",
   "execution_count": null,
   "id": "cd897a40",
   "metadata": {},
   "outputs": [],
   "source": [
    "kwargs = {\n",
    "    'ipi': 1,  # use i-pi socket to save reading Fdata time\n",
    "}"
   ]
  },
  {
   "cell_type": "code",
   "execution_count": null,
   "id": "9cebe2ac",
   "metadata": {},
   "outputs": [],
   "source": [
    "fireball = Fireball(command='fireball-ase.9.x', Fdata_path=Fdata_path, **kwargs)"
   ]
  },
  {
   "cell_type": "code",
   "execution_count": null,
   "id": "3e3a1cb8",
   "metadata": {},
   "outputs": [],
   "source": [
    "atoms.calc = fireball"
   ]
  },
  {
   "cell_type": "code",
   "execution_count": null,
   "id": "90588a28",
   "metadata": {},
   "outputs": [],
   "source": [
    "dyn = MDMin(atoms, trajectory='opt.traj', logfile='opt.log')"
   ]
  },
  {
   "cell_type": "code",
   "execution_count": null,
   "id": "90de84ee",
   "metadata": {
    "scrolled": false
   },
   "outputs": [],
   "source": [
    "fireball.dynamics(dyn,fmax=0.1)  # Note: FIREBALL use force RMS as convergence criteria instead of fmax"
   ]
  },
  {
   "cell_type": "code",
   "execution_count": null,
   "id": "978b3b3a",
   "metadata": {},
   "outputs": [],
   "source": []
  }
 ],
 "metadata": {
  "kernelspec": {
   "display_name": "Python [conda env:fireball_calculator]",
   "language": "python",
   "name": "conda-env-fireball_calculator-py"
  },
  "language_info": {
   "codemirror_mode": {
    "name": "ipython",
    "version": 3
   },
   "file_extension": ".py",
   "mimetype": "text/x-python",
   "name": "python",
   "nbconvert_exporter": "python",
   "pygments_lexer": "ipython3",
   "version": "3.9.15"
  }
 },
 "nbformat": 4,
 "nbformat_minor": 5
}
