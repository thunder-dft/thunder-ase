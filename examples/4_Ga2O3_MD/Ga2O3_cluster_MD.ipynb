{
 "cells": [
  {
   "cell_type": "code",
   "execution_count": 1,
   "id": "39766057",
   "metadata": {},
   "outputs": [
    {
     "name": "stdout",
     "output_type": "stream",
     "text": [
      "rm: cannot remove '*.CHARGES': No such file or directory\r\n"
     ]
    }
   ],
   "source": [
    "# clean last run result\n",
    "\n",
    "!('./clean.sh')"
   ]
  },
  {
   "cell_type": "code",
   "execution_count": null,
   "id": "e4616300",
   "metadata": {},
   "outputs": [],
   "source": [
    "from thunder_ase.fireball import Fireball\n",
    "import numpy as np\n",
    "import ase\n",
    "from ase import units\n",
    "from ase.md.nvtberendsen import NVTBerendsen\n",
    "from ase.md.velocitydistribution import MaxwellBoltzmannDistribution"
   ]
  },
  {
   "cell_type": "markdown",
   "id": "0823d4c5",
   "metadata": {},
   "source": [
    "## Basic Setup"
   ]
  },
  {
   "cell_type": "code",
   "execution_count": null,
   "id": "aaae3f17",
   "metadata": {},
   "outputs": [],
   "source": [
    "# Settings for the size of the system\n",
    "max_step = 100  # step for MD\n",
    "cell_min = 10  # size of the cell, in angstrom"
   ]
  },
  {
   "cell_type": "code",
   "execution_count": null,
   "id": "c3ddc612",
   "metadata": {},
   "outputs": [],
   "source": [
    "# Read Cif structure\n",
    "\n",
    "atoms = ase.io.read('Ga2O3_monoclinic.cif')"
   ]
  },
  {
   "cell_type": "code",
   "execution_count": null,
   "id": "5cb7660f",
   "metadata": {},
   "outputs": [],
   "source": [
    "super_matrix = np.eye(3) * [int(cell_min / i)+1 for i in atoms.cell.lengths()]"
   ]
  },
  {
   "cell_type": "code",
   "execution_count": null,
   "id": "90588a28",
   "metadata": {},
   "outputs": [],
   "source": [
    "atoms = ase.build.make_supercell(atoms, super_matrix)"
   ]
  },
  {
   "cell_type": "code",
   "execution_count": null,
   "id": "25547a5c",
   "metadata": {},
   "outputs": [],
   "source": [
    "# set Fdata dir\n",
    "Fdata_path = '/home/ren/Fdata/Fdata-McWEDA-0.15-3SN.Os3.35p3.80-3SNP.Gas4.85p5.60d5.60.Ins5.45p6.20d6.20'"
   ]
  },
  {
   "cell_type": "code",
   "execution_count": null,
   "id": "2ebcbd47",
   "metadata": {},
   "outputs": [],
   "source": [
    "kwargs = {\n",
    "          'ipi': 1,  # open I-PI socket to speed up\n",
    "          'efermi_T': 500.0,  # for metal cluster need larger Fermi smear\n",
    "          }"
   ]
  },
  {
   "cell_type": "code",
   "execution_count": null,
   "id": "bf376a3f",
   "metadata": {},
   "outputs": [],
   "source": [
    "fireball = Fireball(command='fireball-ase.3.x', \n",
    "                Fdata_path=Fdata_path,\n",
    "                **kwargs)\n",
    "atoms.calc = fireball"
   ]
  },
  {
   "cell_type": "code",
   "execution_count": null,
   "id": "d01f3f0d",
   "metadata": {},
   "outputs": [],
   "source": [
    "MaxwellBoltzmannDistribution(atoms, temperature_K=800)\n",
    "dyn = NVTBerendsen(atoms, timestep=1.0 * units.fs, temperature_K=800,\n",
    "                   trajectory='md-nvt.traj', logfile='md-nvt.log', \n",
    "                   taut=0.5*1000*units.fs)\n",
    "\n",
    "fireball.dynamics(dyn, steps=max_step)"
   ]
  },
  {
   "cell_type": "code",
   "execution_count": null,
   "id": "e207a819",
   "metadata": {},
   "outputs": [],
   "source": []
  }
 ],
 "metadata": {
  "kernelspec": {
   "display_name": "Python [conda env:fireball_calculator]",
   "language": "python",
   "name": "conda-env-fireball_calculator-py"
  },
  "language_info": {
   "codemirror_mode": {
    "name": "ipython",
    "version": 3
   },
   "file_extension": ".py",
   "mimetype": "text/x-python",
   "name": "python",
   "nbconvert_exporter": "python",
   "pygments_lexer": "ipython3",
   "version": "3.9.15"
  }
 },
 "nbformat": 4,
 "nbformat_minor": 5
}
