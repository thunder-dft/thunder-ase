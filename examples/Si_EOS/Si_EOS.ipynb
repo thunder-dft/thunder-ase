{
 "cells": [
  {
   "cell_type": "code",
   "execution_count": 1,
   "id": "7d9ffed8",
   "metadata": {},
   "outputs": [],
   "source": [
    "import os"
   ]
  },
  {
   "cell_type": "code",
   "execution_count": 2,
   "id": "39766057",
   "metadata": {},
   "outputs": [
    {
     "name": "stdout",
     "output_type": "stream",
     "text": [
      "/bin/bash: line 1: ./clean.sh: Permission denied\n"
     ]
    }
   ],
   "source": [
    "# clean last run result\n",
    "\n",
    "!('./clean.sh')"
   ]
  },
  {
   "cell_type": "code",
   "execution_count": 3,
   "id": "8b11d060",
   "metadata": {},
   "outputs": [],
   "source": [
    "# add the package to import path\n",
    "\n",
    "import sys \n",
    "sys.path.append(\"../../\")"
   ]
  },
  {
   "cell_type": "code",
   "execution_count": 4,
   "id": "e4616300",
   "metadata": {},
   "outputs": [],
   "source": [
    "from thunder_ase.fireball import Fireball, MultiFireball\n",
    "import ase\n",
    "from ase.io.trajectory import Trajectory\n",
    "import numpy as np\n",
    "from ase.io import read\n",
    "from ase.units import kJ\n",
    "from ase.eos import EquationOfState"
   ]
  },
  {
   "cell_type": "markdown",
   "id": "0823d4c5",
   "metadata": {},
   "source": [
    "### parameters for Si crystal"
   ]
  },
  {
   "cell_type": "code",
   "execution_count": 5,
   "id": "fe422563",
   "metadata": {},
   "outputs": [],
   "source": [
    "cell = np.array([[2.715000, 2.715000, 0.000000],\n",
    "                 [2.715000, 0.000000, 2.715000],\n",
    "                 [0.000000, 2.715000, 2.715000]])\n",
    "positions = np.array([[0.0000000, 0.0000000, 0.0000000],\n",
    "                      [1.3575000, 1.3575000, 1.3575000]])"
   ]
  },
  {
   "cell_type": "markdown",
   "id": "6d65de74",
   "metadata": {},
   "source": [
    "### parameters for fireball"
   ]
  },
  {
   "cell_type": "code",
   "execution_count": 11,
   "id": "25547a5c",
   "metadata": {},
   "outputs": [],
   "source": [
    "# set Fdata dir\n",
    "Fdata_path='/home/faustival/thunder-dft/fdata/Fdata-McWEDA-0.15-3SN.Sis4.8p5.35'"
   ]
  },
  {
   "cell_type": "code",
   "execution_count": 12,
   "id": "2ebcbd47",
   "metadata": {},
   "outputs": [],
   "source": [
    "kwargs = {'kpt_size': [2, 2, 2],\n",
    "          'iwriteout_ME_SandH': 0,\n",
    "          'iwriteout_density': 0,\n",
    "          'iwriteout_cdcoeffs': 0,\n",
    "          'iwriteout_charges': 1,\n",
    "          'iwriteout_energies': 0,\n",
    "          'iwriteout_populations': 0,\n",
    "          'iwriteout_forces': 1,\n",
    "          'iwriteout_neighbors': 0,\n",
    "          'iwriteout_dos': 0,\n",
    "          'iwriteout_abs': 0,\n",
    "          'iwriteout_ewf': 0,\n",
    "          'nstepi': 1,\n",
    "          'nstepf': 100,\n",
    "          'iquench': -3,\n",
    "          'T_initial': 0.0,\n",
    "          'T_final': 0.0,\n",
    "          'T_want': 0.0,\n",
    "          'taurelax': 5.0,\n",
    "          'efermi_T': 200.0,\n",
    "          'dt': 1.00,\n",
    "          'iensemble': 0,\n",
    "          'iconstraint_rcm': 1,\n",
    "          'iconstraint_vcm': 1,\n",
    "          'iconstraint_L': 0,\n",
    "          'iconstraint_KE': 1,\n",
    "          'ifix_neighbors': 0,\n",
    "          'ifix_CHARGES': 0,\n",
    "          'max_scf_iterations_set': 100,\n",
    "          'scf_tolerance_set': 0.00000001,\n",
    "          'beta_set': 0.04,\n",
    "          'Ecut_set': 200.0,\n",
    "          'rho_surface_min': 0.0005,\n",
    "          'rho_surface_max': 0.01000000,\n",
    "          }"
   ]
  },
  {
   "cell_type": "code",
   "execution_count": 13,
   "id": "b4b3010f",
   "metadata": {},
   "outputs": [],
   "source": [
    "# scale the cell from 0.8 to 1.2\n",
    "cell_factors = np.linspace(0.8, 1.2, 8)"
   ]
  },
  {
   "cell_type": "markdown",
   "id": "c2b5f842",
   "metadata": {},
   "source": [
    "## Run Fireball\n",
    "\n",
    "There are two way to run fireball calculator\n",
    "\n",
    "* serial mode by Fireball calculator\n",
    "* multi-atoms mode by MultiFireball calculator\n",
    "\n",
    "We recommend multi-atoms mode, which saves Fdata reading time."
   ]
  },
  {
   "cell_type": "markdown",
   "id": "337f8b8f",
   "metadata": {},
   "source": [
    "### 1. Run fireball in series mode"
   ]
  },
  {
   "cell_type": "code",
   "execution_count": 14,
   "id": "2d936913",
   "metadata": {},
   "outputs": [
    {
     "name": "stdout",
     "output_type": "stream",
     "text": [
      "  LIGHTNING RUNTIME :   0.603281000000000      [sec] \n",
      "The energy for cell factor 0.800 is -202.987\n",
      "  LIGHTNING RUNTIME :   0.236469000000000      [sec] \n",
      "The energy for cell factor 0.857 is -208.122\n",
      "  LIGHTNING RUNTIME :   0.237512000000000      [sec] \n",
      "The energy for cell factor 0.914 is -211.120\n",
      "  LIGHTNING RUNTIME :   0.189553000000000      [sec] \n",
      "The energy for cell factor 0.971 is -212.631\n",
      "  LIGHTNING RUNTIME :   0.181920000000000      [sec] \n",
      "The energy for cell factor 1.029 is -213.045\n",
      "  LIGHTNING RUNTIME :   0.170601000000000      [sec] \n",
      "The energy for cell factor 1.086 is -212.732\n",
      "  LIGHTNING RUNTIME :   0.155120000000000      [sec] \n",
      "The energy for cell factor 1.143 is -212.124\n",
      "  LIGHTNING RUNTIME :   0.141012000000000      [sec] \n",
      "The energy for cell factor 1.200 is -211.223\n"
     ]
    }
   ],
   "source": [
    "# save the trajectory during calculation\n",
    "\n",
    "traj = Trajectory('Si.traj', 'w')\n",
    "\n",
    "# main loop, will takes several minutes\n",
    "\n",
    "for cf in cell_factors:\n",
    "    atoms = ase.Atoms(numbers=[14, 14],\n",
    "                      cell=cell,\n",
    "                      pbc=True,\n",
    "                      positions=positions,\n",
    "                      )\n",
    "    atoms.set_cell(cell=cell*cf, scale_atoms=True)\n",
    "    calc = Fireball(command='/home/faustival/bin/lightning_McWEDA.x', \n",
    "                    Fdata_path=Fdata_path,\n",
    "                    **kwargs)\n",
    "    atoms.set_calculator(calc)\n",
    "    e0 = atoms.get_potential_energy()\n",
    "    traj.write(atoms)\n",
    "    print(\"The energy for cell factor {:.3f} is {:.3f}\".format(cf, e0))"
   ]
  },
  {
   "cell_type": "code",
   "execution_count": 15,
   "id": "055424ba",
   "metadata": {},
   "outputs": [
    {
     "data": {
      "text/plain": [
       "<AxesSubplot: title={'center': 'sj: E: -213.022 eV, V: 44.376 Å$^3$, B: 82.690 GPa'}, xlabel='volume [Å$^3$]', ylabel='energy [eV]'>"
      ]
     },
     "execution_count": 15,
     "metadata": {},
     "output_type": "execute_result"
    },
    {
     "data": {
      "image/png": "[encoded data removed]",
      "text/plain": [
       "<Figure size 640x480 with 1 Axes>"
      ]
     },
     "metadata": {},
     "output_type": "display_data"
    }
   ],
   "source": [
    "# read the atoms\n",
    "configs = read('Si.traj', index=':')\n",
    "volumes = [si.get_volume() for si in configs]\n",
    "energies = [si.get_potential_energy() for si in configs]\n",
    "# fit Equation of State\n",
    "eos = EquationOfState(volumes, energies)\n",
    "v0, e0, B = eos.fit()\n",
    "# plot result\n",
    "eos.plot()"
   ]
  },
  {
   "cell_type": "markdown",
   "id": "d0a9c0f2",
   "metadata": {},
   "source": [
    "### 2. Run fireball in multi-atoms mode"
   ]
  },
  {
   "cell_type": "code",
   "execution_count": 18,
   "id": "2cf1f955",
   "metadata": {},
   "outputs": [
    {
     "name": "stdout",
     "output_type": "stream",
     "text": [
      "  LIGHTNING RUNTIME :    1.60508600000000      [sec] \n",
      "The energy for cell factor 0.800 is -202.987\n",
      "The energy for cell factor 0.857 is -208.122\n",
      "The energy for cell factor 0.914 is -211.120\n",
      "The energy for cell factor 0.971 is -212.631\n",
      "The energy for cell factor 1.029 is -213.045\n",
      "The energy for cell factor 1.086 is -212.732\n",
      "The energy for cell factor 1.143 is -212.124\n",
      "The energy for cell factor 1.200 is -211.223\n"
     ]
    }
   ],
   "source": [
    "atoms_list = []\n",
    "\n",
    "for cf in cell_factors:\n",
    "    atoms = ase.Atoms(numbers=[14, 14],\n",
    "                      cell=cell,\n",
    "                      pbc=True,\n",
    "                      positions=positions,\n",
    "                      )\n",
    "    atoms.set_cell(cell=cell*cf, scale_atoms=True)\n",
    "    calc = Fireball(command='/home/faustival/bin/lightning_McWEDA.x', \n",
    "                    Fdata_path=Fdata_path,\n",
    "                    **kwargs)\n",
    "    atoms.set_calculator(calc)\n",
    "    atoms_list.append(atoms)\n",
    "\n",
    "# set up multi-fireball calculator\n",
    "\n",
    "multi_calc = MultiFireball(atoms_list=atoms_list)\n",
    "multi_calc.write_input()\n",
    "multi_calc.calculate()\n",
    "\n",
    "# save the trajectory during calculation\n",
    "\n",
    "traj = Trajectory('Si_multicalc.traj', 'w')\n",
    "_ = [traj.write(atoms)  for atoms in atoms_list]\n",
    "\n",
    "# print e0\n",
    "e0_list = [atoms.get_potential_energy() for atoms in atoms_list]\n",
    "for cf, e0 in zip(cell_factors, e0_list):\n",
    "    print(\"The energy for cell factor {:.3f} is {:.3f}\".format(cf, e0)) "
   ]
  },
  {
   "cell_type": "code",
   "execution_count": 19,
   "id": "39a7fdf5",
   "metadata": {},
   "outputs": [
    {
     "data": {
      "text/plain": [
       "<AxesSubplot: title={'center': 'sj: E: -213.022 eV, V: 44.376 Å$^3$, B: 82.691 GPa'}, xlabel='volume [Å$^3$]', ylabel='energy [eV]'>"
      ]
     },
     "execution_count": 19,
     "metadata": {},
     "output_type": "execute_result"
    },
    {
     "data": {
      "image/png": "[encoded data removed]",
      "text/plain": [
       "<Figure size 640x480 with 1 Axes>"
      ]
     },
     "metadata": {},
     "output_type": "display_data"
    }
   ],
   "source": [
    "# read the atoms\n",
    "configs = read('Si_multicalc.traj', index=':')\n",
    "volumes = [si.get_volume() for si in configs]\n",
    "energies = [si.get_potential_energy() for si in configs]\n",
    "# fit Equation of State\n",
    "eos = EquationOfState(volumes, energies)\n",
    "v0, e0, B = eos.fit()\n",
    "# plot result\n",
    "eos.plot()"
   ]
  },
  {
   "cell_type": "code",
   "execution_count": null,
   "id": "6fc05eae-8ef4-44c6-accd-21bb00f6b0f8",
   "metadata": {},
   "outputs": [],
   "source": []
  }
 ],
 "metadata": {
  "kernelspec": {
   "display_name": "Python 3 (ipykernel)",
   "language": "python",
   "name": "python3"
  },
  "language_info": {
   "codemirror_mode": {
    "name": "ipython",
    "version": 3
   },
   "file_extension": ".py",
   "mimetype": "text/x-python",
   "name": "python",
   "nbconvert_exporter": "python",
   "pygments_lexer": "ipython3",
   "version": "3.11.2"
  }
 },
 "nbformat": 4,
 "nbformat_minor": 5
}
